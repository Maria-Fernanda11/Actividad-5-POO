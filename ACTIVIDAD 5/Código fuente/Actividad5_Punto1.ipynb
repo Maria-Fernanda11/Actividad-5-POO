{
  "nbformat": 4,
  "nbformat_minor": 0,
  "metadata": {
    "colab": {
      "provenance": []
    },
    "kernelspec": {
      "name": "python3",
      "display_name": "Python 3"
    },
    "language_info": {
      "name": "python"
    }
  },
  "cells": [
    {
      "cell_type": "code",
      "execution_count": 2,
      "metadata": {
        "colab": {
          "base_uri": "https://localhost:8080/"
        },
        "id": "NyZmbAf_gBJv",
        "outputId": "ac046090-d18f-4732-e121-c25bee71d24c"
      },
      "outputs": [
        {
          "output_type": "stream",
          "name": "stdout",
          "text": [
            "Ingresando al primer try\n",
            "División por cero\n",
            "Ingresando al primer finally\n",
            "Ingresando al segundo try\n",
            "Ocurrió una excepción\n",
            "Ingresando al segundo finally\n"
          ]
        }
      ],
      "source": [
        "\n",
        "\n",
        "class PruebaExcepciones:\n",
        "\n",
        "    @staticmethod\n",
        "    def main():\n",
        "        # Primer bloque try\n",
        "        try:\n",
        "            print(\"Ingresando al primer try\")\n",
        "            cociente = 10000 / 0\n",
        "            print(\"Después de la división\")\n",
        "        except ZeroDivisionError:\n",
        "            print(\"División por cero\")\n",
        "        finally:\n",
        "\n",
        "            print(\"Ingresando al primer finally\")\n",
        "\n",
        "        # Segundo bloque try\n",
        "        try:\n",
        "            print(\"Ingresando al segundo try\")\n",
        "            objeto = None\n",
        "            objeto.test()\n",
        "            print(\"Imprimiendo objeto\")\n",
        "        except ZeroDivisionError:\n",
        "            print(\"División por cero\")\n",
        "        except Exception:\n",
        "            print(\"Ocurrió una excepción\")\n",
        "        finally:\n",
        "\n",
        "            print(\"Ingresando al segundo finally\")\n",
        "\n",
        "\n",
        "if __name__ == \"__main__\":\n",
        "    PruebaExcepciones.main()"
      ]
    }
  ]
}