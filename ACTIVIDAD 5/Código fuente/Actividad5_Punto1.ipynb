{
  "nbformat": 4,
  "nbformat_minor": 0,
  "metadata": {
    "colab": {
      "provenance": []
    },
    "kernelspec": {
      "name": "python3",
      "display_name": "Python 3"
    },
    "language_info": {
      "name": "python"
    }
  },
  "cells": [
    {
      "cell_type": "code",
      "execution_count": null,
      "metadata": {
        "colab": {
          "base_uri": "https://localhost:8080/"
        },
        "id": "NyZmbAf_gBJv",
        "outputId": "cd8d0b54-db3f-43ac-c4c1-aa3d7dc88d2d"
      },
      "outputs": [
        {
          "output_type": "stream",
          "name": "stdout",
          "text": [
            "Ingresando al primer try\n",
            "División por cero\n",
            "Ingresando al primer finally\n",
            "Ingresando al segundo try\n",
            "Ocurrió una excepción\n",
            "Ingresando al segundo finally\n"
          ]
        }
      ],
      "source": [
        "\"\"\"\n",
        "Esta clase denominada PruebaExcepciones lanza diferentes\n",
        "excepciones en situaciones específicas del programa. Los mensajes\n",
        "que se muestran en pantalla ayudan a identificar la porción de código\n",
        "que se ejecutó o no.\n",
        "\"\"\"\n",
        "\n",
        "class PruebaExcepciones:\n",
        "    \"\"\"\n",
        "    Método main con dos bloques try que generan excepciones que\n",
        "    deben ser gestionadas\n",
        "    \"\"\"\n",
        "    @staticmethod\n",
        "    def main():\n",
        "        # Primer bloque try\n",
        "        try:\n",
        "            print(\"Ingresando al primer try\")\n",
        "            cociente = 10000 / 0  # Se lanza una excepción (ZeroDivisionError)\n",
        "            print(\"Después de la división\")  # Esta instrucción nunca será ejecutada\n",
        "        except ZeroDivisionError:  # Se captura la excepción específica\n",
        "            print(\"División por cero\")  # Se imprime en pantalla este mensaje\n",
        "        finally:\n",
        "            # La sentencia finally siempre se ejecuta, ocurra o no una excepción\n",
        "            print(\"Ingresando al primer finally\")\n",
        "\n",
        "        # Segundo bloque try\n",
        "        try:\n",
        "            print(\"Ingresando al segundo try\")\n",
        "            objeto = None\n",
        "            objeto.test()  # Se lanza una excepción (AttributeError)\n",
        "            # Esta instrucción nunca será ejecutada porque se lanzó una excepción\n",
        "            print(\"Imprimiendo objeto\")\n",
        "        except ZeroDivisionError:  # La excepción lanzada no es de este tipo\n",
        "            print(\"División por cero\")\n",
        "        except Exception:  # Se captura cualquier otra excepción\n",
        "            print(\"Ocurrió una excepción\")  # Se imprime en pantalla este mensaje\n",
        "        finally:\n",
        "            # La sentencia finally siempre se ejecuta, ocurra o no una excepción\n",
        "            print(\"Ingresando al segundo finally\")\n",
        "\n",
        "# Para ejecutar el método main, si quieres que se comporte como un ejecutable\n",
        "if __name__ == \"__main__\":\n",
        "    PruebaExcepciones.main()"
      ]
    }
  ]
}