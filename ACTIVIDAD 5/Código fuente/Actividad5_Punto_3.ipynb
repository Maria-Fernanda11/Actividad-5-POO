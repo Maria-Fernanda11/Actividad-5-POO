{
  "nbformat": 4,
  "nbformat_minor": 0,
  "metadata": {
    "colab": {
      "provenance": []
    },
    "kernelspec": {
      "name": "python3",
      "display_name": "Python 3"
    },
    "language_info": {
      "name": "python"
    }
  },
  "cells": [
    {
      "cell_type": "code",
      "execution_count": 3,
      "metadata": {
        "colab": {
          "base_uri": "https://localhost:8080/"
        },
        "id": "CCWF64BIrmN2",
        "outputId": "b6d2f62a-6c8f-4d48-fb7d-5ed1c1f0a52f"
      },
      "outputs": [
        {
          "output_type": "stream",
          "name": "stdout",
          "text": [
            "Valor numérico = -200\n",
            "Error: El valor debe ser un número positivo para calcular el logaritmo.\n",
            "Error: El valor debe ser un número positivo  para calcular la raíz cuadrada.\n"
          ]
        }
      ],
      "source": [
        "import math\n",
        "\n",
        "class CalculosNumericos:\n",
        "\n",
        "\n",
        "    @staticmethod\n",
        "    def calcular_logaritmo_neperiano(valor):\n",
        "\n",
        "        try:\n",
        "            if not isinstance(valor, (int, float)):\n",
        "                raise TypeError(\"El valor ingresado debe ser numérico\")\n",
        "            if valor < 0:\n",
        "                raise ValueError(\"El valor debe ser un número positivo\")\n",
        "\n",
        "            resultado = math.log(valor)\n",
        "            print(f\"Resultado = {resultado}\")\n",
        "        except ValueError as e:\n",
        "            print(f\"Error: {e} para calcular el logaritmo.\")\n",
        "        except TypeError as e:\n",
        "            print(f\"Error: {e} para calcular el logaritmo.\")\n",
        "\n",
        "    @staticmethod\n",
        "    def calcular_raiz_cuadrada(valor):\n",
        "\n",
        "        try:\n",
        "            if not isinstance(valor, (int, float)):\n",
        "                raise TypeError(\"El valor ingresado debe ser numérico \")\n",
        "            if valor < 0:\n",
        "                raise ValueError(\"El valor debe ser un número positivo \")\n",
        "\n",
        "            resultado = math.sqrt(valor)\n",
        "            print(f\"Resultado = {resultado}\")\n",
        "        except ValueError as e:\n",
        "            print(f\"Error: {e} para calcular la raíz cuadrada.\")\n",
        "        except TypeError as e:\n",
        "            print(f\"Error: {e} para calcular la raíz cuadrada.\")\n",
        "\n",
        "\n",
        "if __name__ == \"__main__\":\n",
        "    while True:\n",
        "        try:\n",
        "            valor_str = input(\"Valor numérico = \")\n",
        "            valor = float(valor_str)\n",
        "            break\n",
        "        except ValueError:\n",
        "            print(\"Entrada inválida. Por favor, ingresa un número.\")\n",
        "\n",
        "    CalculosNumericos.calcular_logaritmo_neperiano(valor)\n",
        "    CalculosNumericos.calcular_raiz_cuadrada(valor)"
      ]
    }
  ]
}