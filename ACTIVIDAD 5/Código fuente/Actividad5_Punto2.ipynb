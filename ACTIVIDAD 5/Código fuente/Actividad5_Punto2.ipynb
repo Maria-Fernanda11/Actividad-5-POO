{
  "nbformat": 4,
  "nbformat_minor": 0,
  "metadata": {
    "colab": {
      "provenance": []
    },
    "kernelspec": {
      "name": "python3",
      "display_name": "Python 3"
    },
    "language_info": {
      "name": "python"
    }
  },
  "cells": [
    {
      "cell_type": "code",
      "execution_count": 3,
      "metadata": {
        "colab": {
          "base_uri": "https://localhost:8080/"
        },
        "id": "rRS9YT0yfhzB",
        "outputId": "394a9f0b-c8e7-402a-c89b-2b3450b78b38"
      },
      "outputs": [
        {
          "output_type": "stream",
          "name": "stdout",
          "text": [
            "Nombre del vendedor = \n",
            "Pedro\n",
            "Apellidos del vendedor = \n",
            "Perez\n",
            "Edad del vendedor = \n",
            "21\n",
            "Nombre del vendedor = Pedro\n",
            "Apellidos del vendedor = Perez\n",
            "Edad del vendedor = 21\n"
          ]
        }
      ],
      "source": [
        "class Vendedor:\n",
        "\n",
        "\n",
        "    def __init__(self, nombre, apellidos):\n",
        "\n",
        "        self.nombre = nombre\n",
        "        self.apellidos = apellidos\n",
        "        self.edad = 0  # Inicializamos la edad a 0, se verificará y asignará después.\n",
        "\n",
        "    def imprimir(self):\n",
        "\n",
        "        print(f\"Nombre del vendedor = {self.nombre}\")\n",
        "        print(f\"Apellidos del vendedor = {self.apellidos}\")\n",
        "        print(f\"Edad del vendedor = {self.edad}\")\n",
        "\n",
        "    def verificar_edad(self, edad):\n",
        "\n",
        "        if edad < 18:\n",
        "            raise ValueError(\"El vendedor debe ser mayor de 18 años.\")\n",
        "        elif 0 <= edad <= 120:\n",
        "            self.edad = edad\n",
        "        else:\n",
        "            raise ValueError(\"La edad no puede ser negativa ni mayor a 120.\")\n",
        "\n",
        "\n",
        "if __name__ == \"__main__\":\n",
        "\n",
        "    print(\"Nombre del vendedor = \")\n",
        "    n = input()\n",
        "    print(\"Apellidos del vendedor = \")\n",
        "    a = input()\n",
        "\n",
        "    vendedor = Vendedor(n, a)\n",
        "\n",
        "    while True:\n",
        "        try:\n",
        "            print(\"Edad del vendedor = \")\n",
        "            e = int(input())\n",
        "            vendedor.verificar_edad(e)\n",
        "            break  # Si la edad es válida, salimos del bucle\n",
        "        except ValueError as ex:\n",
        "            print(f\"Error: {ex}. Por favor, intente de nuevo.\")\n",
        "\n",
        "    vendedor.imprimir()"
      ]
    }
  ]
}