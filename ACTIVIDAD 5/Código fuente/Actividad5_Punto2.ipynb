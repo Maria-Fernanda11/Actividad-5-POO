{
  "nbformat": 4,
  "nbformat_minor": 0,
  "metadata": {
    "colab": {
      "provenance": []
    },
    "kernelspec": {
      "name": "python3",
      "display_name": "Python 3"
    },
    "language_info": {
      "name": "python"
    }
  },
  "cells": [
    {
      "cell_type": "code",
      "execution_count": 1,
      "metadata": {
        "colab": {
          "base_uri": "https://localhost:8080/"
        },
        "id": "rRS9YT0yfhzB",
        "outputId": "868ce498-687a-4b30-d9b7-676608afe71f"
      },
      "outputs": [
        {
          "output_type": "stream",
          "name": "stdout",
          "text": [
            "Nombre del vendedor = \n",
            "Juan\n",
            "Apellidos del vendedor = \n",
            "Muriel\n",
            "Edad del vendedor = \n",
            "23\n",
            "Nombre del vendedor = Juan\n",
            "Apellidos del vendedor = Muriel\n",
            "Edad del vendedor = 23\n"
          ]
        }
      ],
      "source": [
        "class Vendedor:\n",
        "\n",
        "\n",
        "    def __init__(self, nombre, apellidos):\n",
        "\n",
        "        self.nombre = nombre\n",
        "        self.apellidos = apellidos\n",
        "        self.edad = 0\n",
        "\n",
        "    def imprimir(self):\n",
        "\n",
        "        print(f\"Nombre del vendedor = {self.nombre}\")\n",
        "        print(f\"Apellidos del vendedor = {self.apellidos}\")\n",
        "        print(f\"Edad del vendedor = {self.edad}\")\n",
        "\n",
        "    def verificar_edad(self, edad):\n",
        "\n",
        "        if edad < 18:\n",
        "            raise ValueError(\"El vendedor debe ser mayor de 18 años.\")\n",
        "        elif 0 <= edad <= 120:\n",
        "            self.edad = edad\n",
        "        else:\n",
        "            raise ValueError(\"La edad no puede ser negativa ni mayor a 120.\")\n",
        "\n",
        "\n",
        "if __name__ == \"__main__\":\n",
        "\n",
        "    print(\"Nombre del vendedor = \")\n",
        "    n = input()\n",
        "    print(\"Apellidos del vendedor = \")\n",
        "    a = input()\n",
        "\n",
        "    vendedor = Vendedor(n, a)\n",
        "\n",
        "    while True:\n",
        "        try:\n",
        "            print(\"Edad del vendedor = \")\n",
        "            e = int(input())\n",
        "            vendedor.verificar_edad(e)\n",
        "            break\n",
        "        except ValueError as ex:\n",
        "            print(f\"Error: {ex}. Por favor, intente de nuevo.\")\n",
        "\n",
        "    vendedor.imprimir()"
      ]
    }
  ]
}