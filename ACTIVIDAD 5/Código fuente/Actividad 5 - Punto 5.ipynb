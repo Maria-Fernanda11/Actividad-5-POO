{
 "cells": [
  {
   "cell_type": "code",
   "execution_count": 1,
   "id": "60bab349",
   "metadata": {},
   "outputs": [],
   "source": [
    "import tkinter as tk\n",
    "from tkinter import messagebox\n",
    "\n",
    "def cargar_archivo(nombre_archivo):\n",
    "    try:\n",
    "        with open(nombre_archivo, 'r', encoding='utf-8') as archivo:\n",
    "            contenido = archivo.read()\n",
    "            texto_area.delete(1.0, tk.END)  # Borra el contenido previo\n",
    "            texto_area.insert(tk.END, contenido) # Inserta el contenido del archivo\n",
    "            etiqueta_estado.config(text=f\"Archivo {nombre_archivo} cargado exitosamente.\")\n",
    "    except FileNotFoundError:\n",
    "        messagebox.showerror(\"Error\", f\"No se pudo encontrar el archivo: '{nombre_archivo}'\")\n",
    "        etiqueta_estado.config(text=f\"Error: Archivo {nombre_archivo} no encontrado.\")\n",
    "    except Exception as e:\n",
    "        messagebox.showerror(\"Error\", f\"Ocurrió un error al leer el archivo: {e}\")\n",
    "        etiqueta_estado.config(text=f\"Error al leer el archivo '{nombre_archivo}'.\")\n",
    "\n",
    "ventana = tk.Tk()\n",
    "ventana.title(\"Lector de Archivos de Texto\")\n",
    "ventana.geometry(\"500x400\") \n",
    "etiqueta_estado = tk.Label(\n",
    "    ventana,\n",
    "    text=\"Cargando archivo...\",\n",
    "    font=(\"Arial\", 10),\n",
    "    fg=\"black\",\n",
    ")\n",
    "etiqueta_estado.pack(pady=10)\n",
    "\n",
    "frame_texto = tk.Frame(ventana, bd=2, relief=tk.SUNKEN)\n",
    "frame_texto.pack(padx=10, pady=5, fill=tk.BOTH, expand=True)\n",
    "\n",
    "scrollbar = tk.Scrollbar(frame_texto)\n",
    "scrollbar.pack(side=tk.RIGHT, fill=tk.Y)\n",
    "\n",
    "texto_area = tk.Text(\n",
    "    frame_texto,\n",
    "    wrap=\"word\",\n",
    "    yscrollcommand=scrollbar.set,\n",
    "    font=(\"Consolas\", 11),\n",
    "    bd=0,\n",
    "    padx=5, pady=5\n",
    ")\n",
    "texto_area.pack(side=tk.LEFT, fill=tk.BOTH, expand=True)\n",
    "scrollbar.config(command=texto_area.yview)\n",
    "\n",
    "if __name__ == \"__main__\":\n",
    "    nombre_archivo = \"prueba.txt\" \n",
    "    ventana.after(100, cargar_archivo(nombre_archivo))\n",
    "    ventana.mainloop()"
   ]
  }
 ],
 "metadata": {
  "kernelspec": {
   "display_name": "Python 3",
   "language": "python",
   "name": "python3"
  },
  "language_info": {
   "codemirror_mode": {
    "name": "ipython",
    "version": 3
   },
   "file_extension": ".py",
   "mimetype": "text/x-python",
   "name": "python",
   "nbconvert_exporter": "python",
   "pygments_lexer": "ipython3",
   "version": "3.12.10"
  }
 },
 "nbformat": 4,
 "nbformat_minor": 5
}
